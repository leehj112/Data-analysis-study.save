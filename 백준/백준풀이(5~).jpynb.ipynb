{
 "cells": [
  {
   "cell_type": "code",
   "execution_count": 1,
   "metadata": {},
   "outputs": [],
   "source": [
    "# 문자와 문자열 \n",
    "# 27866번 \n",
    "\n",
    "\"\"\"\n",
    "단어 S와 정수 i가 주어졌을 때 S의 i번째 글자를 출력하는 프로그램을 작성하시오. \n",
    "\"\"\"\n",
    "\n",
    "s = (input())\n",
    "n = int(input())\n",
    "print(s[n-1]) \n",
    "\n",
    "# s: 문자열 \n",
    "# n = 문자열 i번째 글자를 출력하기 위한 n "
   ]
  },
  {
   "cell_type": "code",
   "execution_count": null,
   "metadata": {},
   "outputs": [],
   "source": [
    "# 단어 길이 재기 \n",
    "# 2743번 \n",
    "\"\"\"\n",
    "알파벳으로만 이루어지는 단어를 입력받아, 길이를 출력하는 프로그램을 작성 \n",
    "\"\"\"\n",
    "s = input()\n",
    "print(len(S))\n"
   ]
  },
  {
   "cell_type": "code",
   "execution_count": null,
   "metadata": {},
   "outputs": [],
   "source": [
    "# 문자열\n",
    "# 9086번\n",
    "\n",
    "\"\"\"\n",
    "문자열을 입력으로 주면 문자열의 첫 글자와 마지막 글자를 출력하는 프로그램을 작성하시오 \n",
    "\"\"\"\n",
    "\n",
    "times = int(input())\n",
    "for i in range(times):\n",
    "    word = input()          # word = input()?: for 루프에서 time이 반복되어 각 반복다마 new 문자열 입력 \n",
    "    print(word[0]+word[-1]) # 첫 글자, 마지막 글자 출력 \n"
   ]
  },
  {
   "cell_type": "code",
   "execution_count": null,
   "metadata": {},
   "outputs": [],
   "source": [
    "# 아스키 코드 \n",
    "# 문제 11654번 \n",
    "\"\"\"\n",
    "알파벳 소문자, 대문자, 숫자 0~9중 하나가 주어졌을 떄, 주어진 글자와 아스키 코드값을 출력하는 프로그램을 작성하시오.\n",
    "\"\"\"\n",
    "\n",
    "A = int(input())\n",
    "print(ord(A)) \n",
    "\n",
    "# ord: 파이썬 특정문자의 유니코드를 포인트(정수)로 반환 \n"
   ]
  },
  {
   "cell_type": "code",
   "execution_count": null,
   "metadata": {},
   "outputs": [],
   "source": [
    "# 숫자의 합\n",
    "# 문제 11720번\n",
    "\"\"\"\n",
    "N개의 숫자가 공백 없이 쓰여있다. 이 숫자를 모두 합해서 출력하는 프로그램을 작성하시오. \n",
    "\"\"\"\n",
    "n = int(input())\n",
    "a = list(input())\n",
    "sum = 0\n",
    "\n",
    "for i in range(n):\n",
    "    sum += int(a[i]) # 반복해야할 i가 a[]리스트 안에 들어가서 숫자에 합을 출력\n",
    "print(sum)           "
   ]
  },
  {
   "cell_type": "code",
   "execution_count": null,
   "metadata": {},
   "outputs": [],
   "source": [
    "# 알파벳 찾기\n",
    "# 10809번 \n",
    "\"\"\"\n",
    "알파벳 소문자로만 이루어지는 단어 S가 주어진다. 각각의 알파벳에 대해서, 단어에 포함되어 있는 경우에는 처음 등장하는 위치를, 포함되어 있지\n",
    "않는 경우에는 -1을 출력하는 프로그램을 작성하시오. \n",
    "\"\"\"\n",
    "\n",
    "s = list(input())\n",
    "c = 'abcdefghijklmnopqrstuvwxyz'\n",
    "\n",
    "for i in c:\n",
    "    if i in s:\n",
    "        print(s.index(i), end='')\n",
    "    else: \n",
    "        print(-1, end='') \n",
    "        "
   ]
  },
  {
   "cell_type": "code",
   "execution_count": null,
   "metadata": {},
   "outputs": [],
   "source": [
    "# 문자열 반복 \n",
    "# 2675번 \n",
    "\"\"\"\n",
    "문자열 s를 입력받은 후에, 각 문자 R번 반복해서 새문자열 P를 만든 후 출력 프로그램을 작성하시오. 즉 첫 번째 문자를 R번 반복하고, 두 번째 문자를 R번 반복하는 식으로\n",
    "P를 만들면 된다. \n",
    "\"\"\"\n",
    " \n",
    "n = int(input())\n",
    "for _ in range(n):\n",
    "    cnt, word = input(),split()\n",
    "\n",
    "    for x in word:\n",
    "        print(x*int(cnt), end='')\n",
    "    print() "
   ]
  },
  {
   "cell_type": "code",
   "execution_count": null,
   "metadata": {},
   "outputs": [],
   "source": [
    "# 단어개수\n",
    "# 1152번 \n",
    "\"\"\"\n",
    "영어 대소문자와 공백으로 이루어진 문자열이 주어진다. 이 문자열에는 몇개의 단어가 있을까? 이를 구하는 프로그램을 작성하시오.\n",
    "단 한 단어가 여러 번 등장한 횟수만큼 모두 세어야 함  \n",
    "\"\"\"\n",
    "a = int(input())\n",
    "print(len(a.split()))  # 문자열 분할하여 단어개수 출력 \n"
   ]
  },
  {
   "cell_type": "code",
   "execution_count": null,
   "metadata": {},
   "outputs": [],
   "source": [
    "# 상수\n",
    "# 2908번 \n",
    "\"\"\"\n",
    "상수는 수를 다른 사람과 거꾸로 읽는다. 734, 893을 칠판에 적었다면 이 수에 큰값 437을 큰 수라고 말할 것이다 \n",
    "두 수가 주어졌을 때, 상수 대답을 출력하는 프로그램을 작성하시오  \n",
    "\"\"\"\n",
    "\n",
    "A, B = map(str, input().split())\n",
    "\n",
    "A1 = int(A[::-1])  # 거꾸로 슬라이싱 \n",
    "B1 = int(B[::-1])\n",
    "\n",
    "print(max(A1, B1)) "
   ]
  },
  {
   "cell_type": "code",
   "execution_count": null,
   "metadata": {},
   "outputs": [],
   "source": [
    "# 다이얼 \n",
    "# 5622\n",
    "callword = ['ABC','DEF', 'GHI','JKL','MNO','PQRS','TUV','WXYZ']    # 각 속해있는 인덱스로 나타냄(0~부터 시작)\n",
    "call = list(input())\n",
    "callNum = 0\n",
    "\n",
    "for i in range(len(call)):   # 각 문자에 대한 반복 \n",
    "    for j in callword:       # 각 전화에 키패드 그룹 반복 \n",
    "        if call[i] in j:     # 현재 문자 전화기 키패드 그룹에 포함되어 있는 지 확인\n",
    "            callNum += callword.index(j) + 3 \n",
    "\n",
    "print(callNum)\n"
   ]
  },
  {
   "cell_type": "code",
   "execution_count": null,
   "metadata": {},
   "outputs": [],
   "source": [
    "# 그대로 출력 \n",
    "# 11718번\n",
    "\"\"\"\n",
    "입력 받은 대로 출력하는 프로그램 작성   \n",
    "\"\"\"\n",
    "while True:\n",
    "    try:\n",
    "        print(input())\n",
    "    except E0FError:\n",
    "        break"
   ]
  }
 ],
 "metadata": {
  "kernelspec": {
   "display_name": "base",
   "language": "python",
   "name": "python3"
  },
  "language_info": {
   "codemirror_mode": {
    "name": "ipython",
    "version": 3
   },
   "file_extension": ".py",
   "mimetype": "text/x-python",
   "name": "python",
   "nbconvert_exporter": "python",
   "pygments_lexer": "ipython3",
   "version": "3.11.7"
  }
 },
 "nbformat": 4,
 "nbformat_minor": 2
}
